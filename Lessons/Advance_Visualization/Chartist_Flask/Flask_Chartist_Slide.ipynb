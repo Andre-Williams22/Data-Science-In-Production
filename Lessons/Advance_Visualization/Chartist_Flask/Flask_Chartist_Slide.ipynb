{
 "cells": [
  {
   "cell_type": "markdown",
   "metadata": {
    "slideshow": {
     "slide_type": "slide"
    }
   },
   "source": [
    "## How to have Python Flask as Backend and Javascript in Frontend\n",
    "\n",
    "- How to create dynamic Chartist.js charts based off data supplied by a server\n",
    "\n",
    "- In this example, we use Flask as the server for the data\n",
    "\n",
    "- Google trends data of keywords 'diet', 'gym' and 'finance' to see how they vary over time\n",
    "\n",
    "- Data is from: https://www.datacamp.com/community/tutorials/time-series-analysis-tutorial\n",
    "\n",
    "- Lets watch this video: https://www.youtube.com/watch?v=geKvJbQsOmM\n"
   ]
  },
  {
   "cell_type": "code",
   "execution_count": 1,
   "metadata": {
    "slideshow": {
     "slide_type": "slide"
    }
   },
   "outputs": [
    {
     "name": "stdout",
     "output_type": "stream",
     "text": [
      "       month  diet  gym  finance\n",
      "0    2004-01   100   31       48\n",
      "1    2004-02    75   26       49\n",
      "2    2004-03    67   24       47\n",
      "3    2004-04    70   22       48\n",
      "4    2004-05    72   22       43\n",
      "..       ...   ...  ...      ...\n",
      "163  2017-08    46   52       43\n",
      "164  2017-09    44   50       47\n",
      "165  2017-10    44   47       45\n",
      "166  2017-11    41   47       47\n",
      "167  2017-12    39   45       56\n",
      "\n",
      "[168 rows x 4 columns]\n",
      "     month  diet  gym\n",
      "0  2004-01   100   31\n",
      "1  2004-02    75   26\n",
      "2  2004-03    67   24\n",
      "3  2004-04    70   22\n",
      "4  2004-05    72   22\n",
      "        month  diet  gym\n",
      "0  2004-01-01   100   31\n",
      "1  2004-02-01    75   26\n",
      "2  2004-03-01    67   24\n",
      "3  2004-04-01    70   22\n",
      "4  2004-05-01    72   22\n",
      "5  2004-06-01    64   24\n",
      "6  2004-07-01    60   23\n",
      "7  2004-08-01    59   28\n",
      "8  2004-09-01    53   25\n",
      "9  2004-10-01    52   24\n",
      "10 2004-11-01    50   23\n",
      "11 2004-12-01    42   24\n",
      "12 2005-01-01    64   32\n",
      "13 2005-02-01    54   28\n",
      "14 2005-03-01    56   27\n",
      "15 2005-04-01    56   25\n",
      "16 2005-05-01    59   24\n",
      "17 2005-06-01    53   25\n",
      "18 2005-07-01    53   25\n",
      "19 2005-08-01    51   28\n",
      "20 2005-09-01    47   28\n",
      "21 2005-10-01    46   27\n",
      "22 2005-11-01    44   25\n",
      "23 2005-12-01    40   24\n"
     ]
    },
    {
     "data": {
      "image/png": "[encoded data removed]",
      "text/plain": [
       "<Figure size 432x288 with 1 Axes>"
      ]
     },
     "metadata": {
      "needs_background": "light"
     },
     "output_type": "display_data"
    }
   ],
   "source": [
    "import pandas as pd\n",
    "import matplotlib.pyplot as plt\n",
    "from functools import reduce\n",
    "\n",
    "df = pd.read_csv('multiTimeline.csv', skiprows=1)\n",
    "df.columns = ['month', 'diet', 'gym', 'finance']\n",
    "print(df)\n",
    "\n",
    "# df_new = df[(df['month'].str.contains('2005'))][['month', 'diet']]\n",
    "\n",
    "# df_new = df[(reduce(lambda a, b: a | b, (df['month'].str.contains(s) for s in ['2004', '2005'])))][['month', 'diet']]\n",
    "df_new = df[(reduce(lambda a, b: a | b, (df['month'].str.contains(s) for s in ['2004', '2005'])))][['month', 'diet', 'gym']]\n",
    "\n",
    "print(df_new.head())\n",
    "\n",
    "df_new['month'] = pd.to_datetime(df_new['month'])\n",
    "df_new = df_new.sort_values(by=['month'])\n",
    "print(df_new)\n",
    "plt.plot(df_new['month'], df_new['diet'])\n",
    "plt.plot(df_new['month'], df_new['gym'])\n",
    "plt.show()"
   ]
  },
  {
   "cell_type": "code",
   "execution_count": null,
   "metadata": {
    "slideshow": {
     "slide_type": "slide"
    }
   },
   "outputs": [
    {
     "name": "stdout",
     "output_type": "stream",
     "text": [
      " * Serving Flask app \"__main__\" (lazy loading)\n",
      " * Environment: production\n",
      "\u001b[31m   WARNING: This is a development server. Do not use it in a production deployment.\u001b[0m\n",
      "\u001b[2m   Use a production WSGI server instead.\u001b[0m\n",
      " * Debug mode: off\n"
     ]
    },
    {
     "name": "stderr",
     "output_type": "stream",
     "text": [
      " * Running on http://0.0.0.0:3000/ (Press CTRL+C to quit)\n",
      "[2020-09-09 18:31:33,549] ERROR in app: Exception on / [GET]\n",
      "Traceback (most recent call last):\n",
      "  File \"/Users/andre/opt/anaconda3/lib/python3.8/site-packages/flask/app.py\", line 2447, in wsgi_app\n",
      "    response = self.full_dispatch_request()\n",
      "  File \"/Users/andre/opt/anaconda3/lib/python3.8/site-packages/flask/app.py\", line 1952, in full_dispatch_request\n",
      "    rv = self.handle_user_exception(e)\n",
      "  File \"/Users/andre/opt/anaconda3/lib/python3.8/site-packages/flask/app.py\", line 1821, in handle_user_exception\n",
      "    reraise(exc_type, exc_value, tb)\n",
      "  File \"/Users/andre/opt/anaconda3/lib/python3.8/site-packages/flask/_compat.py\", line 39, in reraise\n",
      "    raise value\n",
      "  File \"/Users/andre/opt/anaconda3/lib/python3.8/site-packages/flask/app.py\", line 1950, in full_dispatch_request\n",
      "    rv = self.dispatch_request()\n",
      "  File \"/Users/andre/opt/anaconda3/lib/python3.8/site-packages/flask/app.py\", line 1936, in dispatch_request\n",
      "    return self.view_functions[rule.endpoint](**req.view_args)\n",
      "  File \"<ipython-input-2-b6152938de5d>\", line 22, in my_route\n",
      "    df_new = df[(reduce(lambda a, b: a | b, (df['month'].str.contains(s) for s in ls_year)))][['month'] + ls_col]\n",
      "TypeError: reduce() of empty sequence with no initial value\n",
      "127.0.0.1 - - [09/Sep/2020 18:31:33] \"\u001b[35m\u001b[1mGET / HTTP/1.1\u001b[0m\" 500 -\n"
     ]
    },
    {
     "name": "stdout",
     "output_type": "stream",
     "text": [
      "[]\n"
     ]
    },
    {
     "name": "stderr",
     "output_type": "stream",
     "text": [
      "127.0.0.1 - - [09/Sep/2020 18:31:35] \"\u001b[33mGET /favicon.ico HTTP/1.1\u001b[0m\" 404 -\n"
     ]
    }
   ],
   "source": [
    "from flask import Flask, request, jsonify\n",
    "import matplotlib.pyplot as plt\n",
    "from functools import reduce\n",
    "import pandas as pd\n",
    "\n",
    "\n",
    "# curl \"http://0.0.0.0:3000/?n=2004&n=2005&m=diet&m=gym\"\n",
    "# https://www.datacamp.com/community/tutorials/time-series-analysis-tutorial\n",
    "\n",
    "app = Flask(__name__)\n",
    "\n",
    "df = pd.read_csv('multiTimeline.csv', skiprows=1)\n",
    "df.columns = ['month', 'diet', 'gym', 'finance']\n",
    "\n",
    "\n",
    "@app.route('/', methods=['GET'])\n",
    "def my_route():\n",
    "    ls_year = request.args.getlist('n')\n",
    "    ls_col = request.args.getlist('m')\n",
    "    print(ls_year)\n",
    "\n",
    "    df_new = df[(reduce(lambda a, b: a | b, (df['month'].str.contains(s) for s in ls_year)))][['month'] + ls_col]\n",
    "\n",
    "    df_new['month'] = pd.to_datetime(df_new['month'])\n",
    "    df_new = df_new.sort_values(by=['month'])\n",
    "\n",
    "    return jsonify(df_new.to_json())\n",
    "\n",
    "\n",
    "if __name__ == \"__main__\":\n",
    "    app.run(host='0.0.0.0', port=3000)"
   ]
  },
  {
   "cell_type": "code",
   "execution_count": null,
   "metadata": {},
   "outputs": [],
   "source": []
  }
 ],
 "metadata": {
  "celltoolbar": "Slideshow",
  "kernelspec": {
   "display_name": "Python 3",
   "language": "python",
   "name": "python3"
  },
  "language_info": {
   "codemirror_mode": {
    "name": "ipython",
    "version": 3
   },
   "file_extension": ".py",
   "mimetype": "text/x-python",
   "name": "python",
   "nbconvert_exporter": "python",
   "pygments_lexer": "ipython3",
   "version": "3.8.3"
  }
 },
 "nbformat": 4,
 "nbformat_minor": 2
}
